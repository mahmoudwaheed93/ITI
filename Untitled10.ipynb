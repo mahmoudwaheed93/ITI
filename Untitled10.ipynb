{
  "nbformat": 4,
  "nbformat_minor": 0,
  "metadata": {
    "colab": {
      "provenance": [],
      "authorship_tag": "ABX9TyO5gavRNdXfwaSCjV/ba5bV",
      "include_colab_link": true
    },
    "kernelspec": {
      "name": "python3",
      "display_name": "Python 3"
    },
    "language_info": {
      "name": "python"
    }
  },
  "cells": [
    {
      "cell_type": "markdown",
      "metadata": {
        "id": "view-in-github",
        "colab_type": "text"
      },
      "source": [
        "<a href=\"https://colab.research.google.com/github/mahmoudwaheed93/ITI/blob/main/Untitled10.ipynb\" target=\"_parent\"><img src=\"https://colab.research.google.com/assets/colab-badge.svg\" alt=\"Open In Colab\"/></a>"
      ]
    },
    {
      "cell_type": "code",
      "execution_count": 1,
      "metadata": {
        "colab": {
          "base_uri": "https://localhost:8080/"
        },
        "id": "IppF30S1JRwH",
        "outputId": "e19bf5fd-e32f-4c73-b254-0f6c2e35f036"
      },
      "outputs": [
        {
          "output_type": "stream",
          "name": "stdout",
          "text": [
            "20.5\n",
            "20.5\n"
          ]
        }
      ],
      "source": [
        "ager=[18,21,20,19,22,23,20,21,22,19]\n",
        "\n",
        "mean_munual=sum(ager)/len(ager)\n",
        "print(mean_munual)\n",
        "\n",
        "import numpy as np\n",
        "mean_numpy=np.mean(ager)\n",
        "print(mean_numpy)\n"
      ]
    },
    {
      "cell_type": "code",
      "source": [
        "import random\n",
        "import numpy as np\n",
        "\n",
        "random_list = [random.randint(10, 50) for _ in range(15)]\n",
        "\n",
        "manual_sorted = random_list[:]\n",
        "for i in range(len(manual_sorted)):\n",
        "    for j in range(0, len(manual_sorted)-i-1):\n",
        "        if manual_sorted[j] > manual_sorted[j+1]:\n",
        "            manual_sorted[j], manual_sorted[j+1] = manual_sorted[j+1], manual_sorted[j]\n",
        "\n",
        "n = len(manual_sorted)\n",
        "if n % 2 == 1:\n",
        "    median_manual = manual_sorted[n//2]\n",
        "else:\n",
        "    median_manual = (manual_sorted[n//2 - 1] + manual_sorted[n//2]) / 2\n",
        "\n",
        "median_numpy = np.median(random_list)\n",
        "\n",
        "print(\"List:\", random_list)\n",
        "print(\"Median (Manual):\", median_manual)\n",
        "print(\"Median (NumPy):\", median_numpy)\n"
      ],
      "metadata": {
        "colab": {
          "base_uri": "https://localhost:8080/"
        },
        "id": "i5p6TYMaJ_I9",
        "outputId": "08359fb6-0011-4db4-9d93-998f19d28b5e"
      },
      "execution_count": 2,
      "outputs": [
        {
          "output_type": "stream",
          "name": "stdout",
          "text": [
            "List: [27, 45, 19, 28, 46, 36, 23, 42, 23, 16, 17, 17, 43, 42, 30]\n",
            "Median (Manual): 28\n",
            "Median (NumPy): 28.0\n"
          ]
        }
      ]
    },
    {
      "cell_type": "code",
      "source": [
        "min_manual = manual_sorted[0]\n",
        "max_manual = manual_sorted[-1]\n",
        "range_manual = max_manual - min_manual\n",
        "\n",
        "min_numpy = np.min(random_list)\n",
        "max_numpy = np.max(random_list)\n",
        "range_numpy = max_numpy - min_numpy\n",
        "\n",
        "print(\"Manual Min:\", min_manual)\n",
        "print(\"Manual Max:\", max_manual)\n",
        "print(\"Manual Range:\", range_manual)\n",
        "print(\"NumPy Min:\", min_numpy)\n",
        "print(\"NumPy Max:\", max_numpy)\n",
        "print(\"NumPy Range:\", range_numpy)\n"
      ],
      "metadata": {
        "colab": {
          "base_uri": "https://localhost:8080/"
        },
        "id": "eRmFvVYjMqKK",
        "outputId": "c2701586-501f-46f5-c94e-ee670778eb8a"
      },
      "execution_count": 3,
      "outputs": [
        {
          "output_type": "stream",
          "name": "stdout",
          "text": [
            "Manual Min: 16\n",
            "Manual Max: 46\n",
            "Manual Range: 30\n",
            "NumPy Min: 16\n",
            "NumPy Max: 46\n",
            "NumPy Range: 30\n"
          ]
        }
      ]
    },
    {
      "cell_type": "code",
      "source": [
        "data = [5, 7, 3, 7, 9, 10, 15, 7]\n",
        "\n",
        "mean_data = sum(data) / len(data)\n",
        "\n",
        "variance_manual = sum((x - mean_data) ** 2 for x in data) / len(data)\n",
        "\n",
        "std_dev_manual = variance_manual ** 0.5\n",
        "\n",
        "variance_numpy = np.var(data)\n",
        "std_dev_numpy = np.std(data)\n",
        "\n",
        "print(\"Manual Variance:\", variance_manual)\n",
        "print(\"Manual Std Dev:\", std_dev_manual)\n",
        "print(\"NumPy Variance:\", variance_numpy)\n",
        "print(\"NumPy Std Dev:\", std_dev_numpy)\n"
      ],
      "metadata": {
        "colab": {
          "base_uri": "https://localhost:8080/"
        },
        "id": "NNOFTXaXNH9S",
        "outputId": "7f493615-b690-452c-d28d-887f5a2b4de0"
      },
      "execution_count": 6,
      "outputs": [
        {
          "output_type": "stream",
          "name": "stdout",
          "text": [
            "Manual Variance: 11.359375\n",
            "Manual Std Dev: 3.370367190678191\n",
            "NumPy Variance: 11.359375\n",
            "NumPy Std Dev: 3.370367190678191\n"
          ]
        }
      ]
    },
    {
      "cell_type": "code",
      "source": [
        "q1 = np.percentile(data, 25)\n",
        "q2 = np.percentile(data, 50)\n",
        "q3 = np.percentile(data, 75)\n",
        "iqr = q3 - q1\n",
        "\n",
        "print(\"Q1 (25%):\", q1)\n",
        "print(\"Q2 (50% - Median):\", q2)\n",
        "print(\"Q3 (75%):\", q3)\n",
        "print(\"IQR:\", iqr)\n"
      ],
      "metadata": {
        "colab": {
          "base_uri": "https://localhost:8080/"
        },
        "id": "O18aDiU6Obn9",
        "outputId": "fe2a8b1e-b9b9-4050-efef-ed2ecd8fb9c3"
      },
      "execution_count": 7,
      "outputs": [
        {
          "output_type": "stream",
          "name": "stdout",
          "text": [
            "Q1 (25%): 6.5\n",
            "Q2 (50% - Median): 7.0\n",
            "Q3 (75%): 9.25\n",
            "IQR: 2.75\n"
          ]
        }
      ]
    }
  ]
}